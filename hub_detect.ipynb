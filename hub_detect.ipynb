{
 "cells": [
  {
   "cell_type": "code",
   "execution_count": 10,
   "metadata": {},
   "outputs": [
    {
     "name": "stderr",
     "output_type": "stream",
     "text": [
      "YOLOv5  2023-4-15 Python-3.8.16 torch-1.8.2+cu102 CUDA:0 (NVIDIA GeForce GTX 1660 Ti with Max-Q Design, 6144MiB)\n",
      "\n",
      "Fusing layers... \n"
     ]
    },
    {
     "name": "stdout",
     "output_type": "stream",
     "text": [
      "\u001b[31m\u001b[1mrequirements:\u001b[0m C:\\Users\\DELL\\Desktop\\requirements.txt not found, check failed.\n"
     ]
    },
    {
     "name": "stderr",
     "output_type": "stream",
     "text": [
      "YOLOv5s summary: 157 layers, 7018216 parameters, 0 gradients, 15.8 GFLOPs\n",
      "Adding AutoShape... \n"
     ]
    },
    {
     "name": "stdout",
     "output_type": "stream",
     "text": [
      "1\n",
      "\n",
      "image 1/1: 2560x1440 1 LC\n",
      "Speed: 39.9ms pre-process, 11.0ms inference, 2.5ms NMS per image at shape (1, 3, 640, 384)\n"
     ]
    }
   ],
   "source": [
    "import torch \n",
    "import json\n",
    "\n",
    "model = torch.hub.load(\"./\", \"custom\", path=\"best.pt\", source=\"local\")\n",
    "\n",
    "img = \"crack500/images/train/20160222_080933.jpg\"\n",
    "\n",
    "results = model(img)\n",
    "\n",
    "# results.show()\n",
    "print(\"1\\n\")\n",
    "print(results)\n",
    "print()"
   ]
  },
  {
   "attachments": {},
   "cell_type": "markdown",
   "metadata": {},
   "source": [
    "re"
   ]
  },
  {
   "cell_type": "code",
   "execution_count": 3,
   "metadata": {},
   "outputs": [
    {
     "data": {
      "text/plain": [
       "array([[[129, 128, 134],\n",
       "        [129, 128, 134],\n",
       "        [127, 126, 132],\n",
       "        ...,\n",
       "        [121, 119, 124],\n",
       "        [123, 121, 126],\n",
       "        [122, 120, 125]],\n",
       "\n",
       "       [[127, 126, 132],\n",
       "        [128, 127, 133],\n",
       "        [128, 127, 133],\n",
       "        ...,\n",
       "        [121, 119, 124],\n",
       "        [126, 124, 129],\n",
       "        [128, 126, 131]],\n",
       "\n",
       "       [[119, 118, 124],\n",
       "        [122, 121, 127],\n",
       "        [124, 123, 129],\n",
       "        ...,\n",
       "        [120, 119, 124],\n",
       "        [128, 127, 132],\n",
       "        [132, 131, 136]],\n",
       "\n",
       "       ...,\n",
       "\n",
       "       [[ 79,  77,  91],\n",
       "        [ 80,  78,  92],\n",
       "        [ 80,  79,  93],\n",
       "        ...,\n",
       "        [ 68,  82,  93],\n",
       "        [ 88, 102, 113],\n",
       "        [ 96, 110, 121]],\n",
       "\n",
       "       [[ 81,  79,  93],\n",
       "        [ 78,  76,  90],\n",
       "        [ 74,  72,  86],\n",
       "        ...,\n",
       "        [ 66,  80,  91],\n",
       "        [ 82,  96, 107],\n",
       "        [ 93, 107, 118]],\n",
       "\n",
       "       [[ 76,  74,  88],\n",
       "        [ 71,  69,  83],\n",
       "        [ 66,  64,  78],\n",
       "        ...,\n",
       "        [ 64,  78,  89],\n",
       "        [ 69,  83,  94],\n",
       "        [ 75,  89, 100]]], dtype=uint8)"
      ]
     },
     "execution_count": 3,
     "metadata": {},
     "output_type": "execute_result"
    }
   ],
   "source": [
    "results.render()[0]"
   ]
  },
  {
   "cell_type": "code",
   "execution_count": 13,
   "metadata": {},
   "outputs": [
    {
     "ename": "TypeError",
     "evalue": "'Detections' object is not iterable",
     "output_type": "error",
     "traceback": [
      "\u001b[1;31m---------------------------------------------------------------------------\u001b[0m",
      "\u001b[1;31mTypeError\u001b[0m                                 Traceback (most recent call last)",
      "Cell \u001b[1;32mIn[13], line 3\u001b[0m\n\u001b[0;32m      1\u001b[0m results_dict \u001b[39m=\u001b[39m {}\n\u001b[0;32m      2\u001b[0m \u001b[39m# 解析每个结果\u001b[39;00m\n\u001b[1;32m----> 3\u001b[0m \u001b[39mfor\u001b[39;00m result \u001b[39min\u001b[39;00m results:\n\u001b[0;32m      4\u001b[0m     \u001b[39m# 提取LC值\u001b[39;00m\n\u001b[0;32m      5\u001b[0m     lc \u001b[39m=\u001b[39m result\u001b[39m.\u001b[39msplit(\u001b[39m\"\u001b[39m\u001b[39m \u001b[39m\u001b[39m\"\u001b[39m)[\u001b[39m-\u001b[39m\u001b[39m2\u001b[39m]\n\u001b[0;32m      6\u001b[0m     \u001b[39m# 提取运行时间\u001b[39;00m\n",
      "\u001b[1;31mTypeError\u001b[0m: 'Detections' object is not iterable"
     ]
    }
   ],
   "source": []
  },
  {
   "cell_type": "markdown",
   "metadata": {},
   "source": []
  },
  {
   "cell_type": "code",
   "execution_count": 1,
   "metadata": {},
   "outputs": [
    {
     "name": "stdout",
     "output_type": "stream",
     "text": [
      "2023-05-10 23:34:16.254049\n"
     ]
    }
   ],
   "source": [
    "import datetime\n",
    "\n",
    "now = datetime.datetime.now()\n",
    "print(now)"
   ]
  }
 ],
 "metadata": {
  "kernelspec": {
   "display_name": "yolov5",
   "language": "python",
   "name": "python3"
  },
  "language_info": {
   "codemirror_mode": {
    "name": "ipython",
    "version": 3
   },
   "file_extension": ".py",
   "mimetype": "text/x-python",
   "name": "python",
   "nbconvert_exporter": "python",
   "pygments_lexer": "ipython3",
   "version": "3.8.16"
  },
  "orig_nbformat": 4
 },
 "nbformat": 4,
 "nbformat_minor": 2
}
